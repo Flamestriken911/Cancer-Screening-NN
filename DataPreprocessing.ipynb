{
 "cells": [
  {
   "cell_type": "code",
   "execution_count": 1,
   "metadata": {
    "collapsed": false
   },
   "outputs": [],
   "source": [
    "import cv2                 \n",
    "import numpy as np         \n",
    "import os "
   ]
  },
  {
   "cell_type": "code",
   "execution_count": 2,
   "metadata": {
    "collapsed": false
   },
   "outputs": [],
   "source": [
    "# CTE: These are my filepaths, here for convenience\n",
    "cte_train_dir = 'D:\\\\Work\\\\Kaggle\\\\Cancer Screening\\\\Cancer-Screening-NN\\\\Data\\\\train\\\\'\n",
    "cte_test_dir = 'D:\\\\Work\\\\Kaggle\\\\Cancer Screening\\\\Cancer-Screening-NN\\\\Data\\\\test\\\\'\n",
    "cte_additional_t1_dir = 'D:\\\\Work\\\\Kaggle\\\\Cancer Screening\\\\Cancer-Screening-NN\\\\Data\\\\additional_Type_1_v2\\\\'\n",
    "cte_additional_t2_dir = 'D:\\\\Work\\\\Kaggle\\\\Cancer Screening\\\\Cancer-Screening-NN\\\\Data\\\\additional_Type_2_v2\\\\'\n",
    "cte_additional_t3_dir = 'D:\\\\Work\\\\Kaggle\\\\Cancer Screening\\\\Cancer-Screening-NN\\\\Data\\\\additional_Type_3_v2\\\\'\n",
    "\n",
    "TRAIN_DIR = cte_train_dir # put the path to the training data here.\n",
    "TEST_DIR = cte_test_dir # put the path to the test data here.\n",
    "IMG_SIZE = 50 # we can change this to whatever\n",
    "STORAGE_DIR = 'D:\\\\Work\\\\Kaggle\\\\Cancer Screening\\\\Cancer-Screening-NN\\\\Data\\\\processed\\\\'"
   ]
  },
  {
   "cell_type": "code",
   "execution_count": 3,
   "metadata": {
    "collapsed": true
   },
   "outputs": [],
   "source": [
    "# Progress bar function, since some of these processes take a while\n",
    "def show_progress(current_index, total_len):\n",
    "    x = (current_index + 1) * 100 // total_len\n",
    "    x_less1 = current_index * 100 // total_len\n",
    "    if (x % 10 == 0 and x - x_less1 > 0 and x < 100):\n",
    "        print('{}%...'.format(x), end='')\n",
    "    elif current_index == total_len - 1:\n",
    "        print('100%')"
   ]
  },
  {
   "cell_type": "code",
   "execution_count": 4,
   "metadata": {
    "collapsed": true
   },
   "outputs": [],
   "source": [
    "def label_img(file):\n",
    "    data_label = file\n",
    "    # conversion to one-hot array [type_1,type_2,type_3]\n",
    "    if data_label == 'Type_1': return [1,0,0]\n",
    "    elif data_label == 'Type_2': return [0,1,0]\n",
    "    elif data_label == 'Type_3': return [0,0,1]"
   ]
  },
  {
   "cell_type": "code",
   "execution_count": 5,
   "metadata": {
    "collapsed": false
   },
   "outputs": [],
   "source": [
    "def create_train_data(img_size, train_dir):\n",
    "    training_data = []\n",
    "    for file in os.listdir(train_dir):\n",
    "        print('Starting on file {}'.format(file))\n",
    "        file_path = os.path.join(train_dir,file)\n",
    "        data_label = label_img(file)\n",
    "        file_len = len(os.listdir(file_path))\n",
    "        for i, img in enumerate(os.listdir(file_path)):\n",
    "            show_progress(i,file_len) # Print progress\n",
    "            label = data_label\n",
    "            path = os.path.join(file_path,img)\n",
    "            try:\n",
    "                img = cv2.resize(cv2.imread(path,cv2.IMREAD_GRAYSCALE), (img_size,img_size))\n",
    "            except:\n",
    "                print('\\nError resizing image {} in {}'.format(img, file_path))\n",
    "                continue\n",
    "            training_data =(np.array(img),np.array(label))\n",
    "            # So that we don't have to do this again, unless we change something here.\n",
    "            np.save('{}{}\\\\{}.npy'.format(STORAGE_DIR, label_folder, len(os.listdir(STORAGE_DIR+label_folder))), training_data)\n",
    "#    return training_data"
   ]
  },
  {
   "cell_type": "code",
   "execution_count": 6,
   "metadata": {
    "collapsed": true
   },
   "outputs": [],
   "source": [
    "def process_test_data():\n",
    "    testing_data = []\n",
    "    file_len = len(os.listdir(TEST_DIR))\n",
    "    for i, img in enumerate(os.listdir(TEST_DIR)):\n",
    "        show_progress(i,file_len) # Print progress\n",
    "        path = os.path.join(TEST_DIR,img)\n",
    "        img_num = img.split('.')[0]\n",
    "        img = cv2.resize(cv2.imread(path,cv2.IMREAD_GRAYSCALE), (IMG_SIZE,IMG_SIZE))\n",
    "        testing_data.append([np.array(img), img_num])\n",
    "        \n",
    "    np.save('test_data.npy', testing_data)\n",
    "    return testing_data"
   ]
  },
  {
   "cell_type": "code",
   "execution_count": 7,
   "metadata": {
    "collapsed": false
   },
   "outputs": [
    {
     "name": "stdout",
     "output_type": "stream",
     "text": [
      "Starting on file Type_1\n",
      "10%...20%...30%...40%...50%...60%...70%...80%...90%...100%\n",
      "Starting on file Type_2\n",
      "10%...20%...30%...40%...50%...60%...70%...80%...90%...100%\n",
      "Starting on file Type_3\n",
      "10%...20%...30%...40%...50%...60%...70%...80%...90%...100%\n",
      "Starting on file Type_1\n",
      "10%...20%...30%...40%...50%...60%...70%...\n",
      "Error resizing image 5893.jpg in D:\\Work\\Kaggle\\Cancer Screening\\Cancer-Screening-NN\\Data\\additional_Type_1_v2\\Type_1\n",
      "80%...90%...100%\n",
      "Starting on file Type_2\n",
      "10%...20%...30%...\n",
      "Error resizing image 2845.jpg in D:\\Work\\Kaggle\\Cancer Screening\\Cancer-Screening-NN\\Data\\additional_Type_2_v2\\Type_2\n",
      "40%...50%...60%...70%...\n",
      "Error resizing image 5892.jpg in D:\\Work\\Kaggle\\Cancer Screening\\Cancer-Screening-NN\\Data\\additional_Type_2_v2\\Type_2\n",
      "80%...90%...100%\n",
      "Starting on file Type_3\n",
      "10%...20%...30%...40%...50%...60%...70%...80%...90%...100%\n"
     ]
    }
   ],
   "source": [
    "train_folders = [cte_train_dir, cte_additional_t1_dir, cte_additional_t2_dir, cte_additional_t3_dir]\n",
    "for folder in train_folders:\n",
    "    train_data = create_train_data(IMG_SIZE, folder)\n",
    "#process_test_data()"
   ]
  },
  {
   "cell_type": "code",
   "execution_count": null,
   "metadata": {
    "collapsed": true
   },
   "outputs": [],
   "source": []
  }
 ],
 "metadata": {
  "kernelspec": {
   "display_name": "Python 3",
   "language": "python",
   "name": "python3"
  },
  "language_info": {
   "codemirror_mode": {
    "name": "ipython",
    "version": 3
   },
   "file_extension": ".py",
   "mimetype": "text/x-python",
   "name": "python",
   "nbconvert_exporter": "python",
   "pygments_lexer": "ipython3",
   "version": "3.6.0"
  }
 },
 "nbformat": 4,
 "nbformat_minor": 2
}
