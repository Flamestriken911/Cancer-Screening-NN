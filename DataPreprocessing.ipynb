{
 "cells": [
  {
   "cell_type": "code",
   "execution_count": 1,
   "metadata": {
    "collapsed": false
   },
   "outputs": [],
   "source": [
    "import cv2                 \n",
    "import numpy as np         \n",
    "import os "
   ]
  },
  {
   "cell_type": "code",
   "execution_count": 9,
   "metadata": {
    "collapsed": true
   },
   "outputs": [],
   "source": [
    "cte_train_dir = 'D:\\\\Work\\\\Kaggle\\\\Cancer Screening\\\\Cancer-Screening-NN\\\\Data\\\\train\\\\' # CTE: This is my filepath, here for convenience\n",
    "TRAIN_DIR = cte_train_dir # put the path to the training data here.\n",
    "TEST_DIR = '' # put the path to the test data here.\n",
    "IMG_SIZE = 50 # we can change this to whatever"
   ]
  },
  {
   "cell_type": "code",
   "execution_count": 10,
   "metadata": {
    "collapsed": true
   },
   "outputs": [],
   "source": [
    "def label_img(file):\n",
    "    data_label = file\n",
    "    # conversion to one-hot array [type_1,type_2,type_3]\n",
    "    if data_label == 'Type_1': return [1,0,0]\n",
    "    elif data_label == 'Type_2': return [0,1,0]\n",
    "    elif data_label == 'Type_3': return [0,0,1]"
   ]
  },
  {
   "cell_type": "code",
   "execution_count": 19,
   "metadata": {
    "collapsed": true
   },
   "outputs": [],
   "source": [
    "def create_train_data(img_size):\n",
    "    training_data = []\n",
    "    for file in os.listdir(TRAIN_DIR):\n",
    "        print('Starting on file {}'.format(file))\n",
    "        file_path = os.path.join(TRAIN_DIR,file)\n",
    "        data_label = label_img(file)\n",
    "        for i, img in enumerate(os.listdir(file_path)):\n",
    "            # Print progress\n",
    "            if i % 50 == 0:\n",
    "                print('{} folder: {} of {} images processed'.format(file,i,len(os.listdir(file_path))))\n",
    "            label = data_label\n",
    "            path = os.path.join(file_path,img)\n",
    "            img = cv2.resize(cv2.imread(path,cv2.IMREAD_GRAYSCALE), (img_size,img_size))\n",
    "            training_data.append([np.array(img),np.array(label)])\n",
    "    # So that we don't have to do this again, unless we change something here.\n",
    "    np.save('train_data.npy', training_data)\n",
    "    return training_data"
   ]
  },
  {
   "cell_type": "code",
   "execution_count": 20,
   "metadata": {
    "collapsed": true
   },
   "outputs": [],
   "source": [
    "def process_test_data():\n",
    "    testing_data = []\n",
    "    for i, img in enumerate(os.listdir(TEST_DIR)):\n",
    "        if i % 50 == 0:\n",
    "            print('{} of {} images processed'.format(i,len(os.listdir(TEST_DIR))))\n",
    "        path = os.path.join(TEST_DIR,img)\n",
    "        img_num = img.split('.')[0]\n",
    "        img = cv2.resize(cv2.imread(path,cv2.IMREAD_GRAYSCALE), (IMG_SIZE,IMG_SIZE))\n",
    "        testing_data.append([np.array(img), img_num])\n",
    "        \n",
    "    np.save('test_data.npy', testing_data)\n",
    "    return testing_data"
   ]
  },
  {
   "cell_type": "code",
   "execution_count": 21,
   "metadata": {
    "collapsed": false
   },
   "outputs": [
    {
     "name": "stdout",
     "output_type": "stream",
     "text": [
      "Starting on file Type_1\n",
      "Type_1 folder: 0 of 250 images processed\n",
      "Type_1 folder: 50 of 250 images processed\n",
      "Type_1 folder: 100 of 250 images processed\n",
      "Type_1 folder: 150 of 250 images processed\n",
      "Type_1 folder: 200 of 250 images processed\n",
      "Starting on file Type_2\n",
      "Type_2 folder: 0 of 781 images processed\n",
      "Type_2 folder: 50 of 781 images processed\n",
      "Type_2 folder: 100 of 781 images processed\n",
      "Type_2 folder: 150 of 781 images processed\n",
      "Type_2 folder: 200 of 781 images processed\n",
      "Type_2 folder: 250 of 781 images processed\n",
      "Type_2 folder: 300 of 781 images processed\n",
      "Type_2 folder: 350 of 781 images processed\n",
      "Type_2 folder: 400 of 781 images processed\n",
      "Type_2 folder: 450 of 781 images processed\n",
      "Type_2 folder: 500 of 781 images processed\n",
      "Type_2 folder: 550 of 781 images processed\n",
      "Type_2 folder: 600 of 781 images processed\n",
      "Type_2 folder: 650 of 781 images processed\n",
      "Type_2 folder: 700 of 781 images processed\n",
      "Type_2 folder: 750 of 781 images processed\n",
      "Starting on file Type_3\n",
      "Type_3 folder: 0 of 450 images processed\n",
      "Type_3 folder: 50 of 450 images processed\n",
      "Type_3 folder: 100 of 450 images processed\n",
      "Type_3 folder: 150 of 450 images processed\n",
      "Type_3 folder: 200 of 450 images processed\n",
      "Type_3 folder: 250 of 450 images processed\n",
      "Type_3 folder: 300 of 450 images processed\n",
      "Type_3 folder: 350 of 450 images processed\n",
      "Type_3 folder: 400 of 450 images processed\n"
     ]
    }
   ],
   "source": [
    "train_data = create_train_data(IMG_SIZE)\n",
    "# OR\n",
    "# train_data = np.load('train_data.npy')"
   ]
  },
  {
   "cell_type": "code",
   "execution_count": null,
   "metadata": {
    "collapsed": true
   },
   "outputs": [],
   "source": []
  }
 ],
 "metadata": {
  "kernelspec": {
   "display_name": "Python 3",
   "language": "python",
   "name": "python3"
  },
  "language_info": {
   "codemirror_mode": {
    "name": "ipython",
    "version": 3
   },
   "file_extension": ".py",
   "mimetype": "text/x-python",
   "name": "python",
   "nbconvert_exporter": "python",
   "pygments_lexer": "ipython3",
   "version": "3.6.0"
  }
 },
 "nbformat": 4,
 "nbformat_minor": 2
}
