{
 "cells": [
  {
   "cell_type": "code",
   "execution_count": null,
   "metadata": {
    "collapsed": false
   },
   "outputs": [],
   "source": [
    "import cv2                 \n",
    "import numpy as np         \n",
    "import os \n",
    "from random import shuffle"
   ]
  },
  {
   "cell_type": "code",
   "execution_count": null,
   "metadata": {
    "collapsed": false
   },
   "outputs": [],
   "source": [
    "# CTE: These are my filepaths, here for convenience\n",
    "cte_train_dir = 'D:\\\\Work\\\\Kaggle\\\\Cancer Screening\\\\Cancer-Screening-NN\\\\Data\\\\train\\\\'\n",
    "cte_test_dir = 'D:\\\\Work\\\\Kaggle\\\\Cancer Screening\\\\Cancer-Screening-NN\\\\Data\\\\test\\\\'\n",
    "cte_additional_t1_dir = 'D:\\\\Work\\\\Kaggle\\\\Cancer Screening\\\\Cancer-Screening-NN\\\\Data\\\\additional_Type_1_v2\\\\'\n",
    "cte_additional_t2_dir = 'D:\\\\Work\\\\Kaggle\\\\Cancer Screening\\\\Cancer-Screening-NN\\\\Data\\\\additional_Type_2_v2\\\\'\n",
    "cte_additional_t3_dir = 'D:\\\\Work\\\\Kaggle\\\\Cancer Screening\\\\Cancer-Screening-NN\\\\Data\\\\additional_Type_3_v2\\\\'\n",
    "\n",
    "hjh_train_dir = '/Users/hayleeheilman/Data/Train'\n",
    "hjh_test_dir = '/Users/hayleeheilman/Data/test'\n",
    "\n",
    "TRAIN_DIR = hjh_train_dir # put the path to the training data here.\n",
    "TEST_DIR = hjh_test_dir # put the path to the test data here.\n",
    "IMG_SIZE = 50 # we can change this to whatever\n",
    "STORAGE_DIR = 'D:\\\\Work\\\\Kaggle\\\\Cancer Screening\\\\Cancer-Screening-NN\\\\Data\\\\processed\\\\'"
   ]
  },
  {
   "cell_type": "code",
   "execution_count": null,
   "metadata": {
    "collapsed": true
   },
   "outputs": [],
   "source": [
    "# Progress bar function, since some of these processes take a while\n",
    "def show_progress(current_index, total_len):\n",
    "    x = (current_index + 1) * 100 // total_len\n",
    "    x_less1 = current_index * 100 // total_len\n",
    "    if (x % 10 == 0 and x - x_less1 > 0 and x < 100):\n",
    "        print('{}%...'.format(x), end='')\n",
    "    elif current_index == total_len - 1:\n",
    "        print('100%')"
   ]
  },
  {
   "cell_type": "code",
   "execution_count": null,
   "metadata": {
    "collapsed": false
   },
   "outputs": [],
   "source": [
    "def label_img(file):\n",
    "    data_label = file\n",
    "    # conversion to one-hot array [type_1,type_2,type_3]\n",
    "    if data_label == 'Type_1': return [1,0,0]\n",
    "    elif data_label == 'Type_2': return [0,1,0]\n",
    "    elif data_label == 'Type_3': return [0,0,1]\n",
    "    elif data_label == 'additional_Type_1': return [1,0,0]\n",
    "    elif data_label == 'additional_Type_2': return [0,1,0]\n",
    "    elif data_label == 'additional_Type_3': return [0,0,1]"
   ]
  },
  {
   "cell_type": "code",
   "execution_count": null,
   "metadata": {
    "collapsed": false
   },
   "outputs": [],
   "source": [
    "def create_train_data():\n",
    "    training_data = []\n",
    "    for file in os.listdir(TRAIN_DIR):\n",
    "        print('Starting on file {}'.format(file))\n",
    "        file_path = os.path.join(TRAIN_DIR,file)\n",
    "        data_label = label_img(file)\n",
    "        file_len = len(os.listdir(file_path))\n",
    "        for i, img in enumerate(os.listdir(file_path)):\n",
    "            show_progress(i,file_len) # Print progress\n",
    "            label = data_label\n",
    "            path = os.path.join(file_path,img)\n",
    "            try:\n",
    "                img = cv2.resize(cv2.imread(path,cv2.IMREAD_GRAYSCALE), (IMG_SIZE,IMG_SIZE))\n",
    "            except:\n",
    "                print('\\nError resizing image {} in {}'.format(img, file_path))\n",
    "                continue\n",
    "            training_data.append([np.array(img),np.array(label)])\n",
    "    shuffle(training_data)\n",
    "    np.save('train_data.npy', training_data)\n",
    "    return training_data"
   ]
  },
  {
   "cell_type": "code",
   "execution_count": null,
   "metadata": {
    "collapsed": true
   },
   "outputs": [],
   "source": [
    "def process_test_data():\n",
    "    testing_data = []\n",
    "    file_len = len(os.listdir(TEST_DIR))\n",
    "    for i, img in enumerate(os.listdir(TEST_DIR)):\n",
    "        show_progress(i,file_len) # Print progress\n",
    "        path = os.path.join(TEST_DIR,img)\n",
    "        img_num = img\n",
    "        img = cv2.resize(cv2.imread(path,cv2.IMREAD_GRAYSCALE), (IMG_SIZE,IMG_SIZE))\n",
    "        testing_data.append([np.array(img), img_num])\n",
    "        \n",
    "    np.save('test_data.npy', testing_data)\n",
    "    return testing_data"
   ]
  },
  {
   "cell_type": "code",
   "execution_count": null,
   "metadata": {
    "collapsed": false
   },
   "outputs": [],
   "source": [
    "#train_data = create_train_data()\n",
    "#process_test_data()\n",
    "train_data = np.load('train_data.npy')"
   ]
  },
  {
   "cell_type": "code",
   "execution_count": null,
   "metadata": {
    "collapsed": false
   },
   "outputs": [],
   "source": [
    "import keras\n",
    "from keras.models import Sequential\n",
    "from keras.layers import Dense, Dropout, Flatten\n",
    "from keras.layers import Conv2D, MaxPooling2D\n",
    "from keras.constraints import maxnorm\n",
    "from keras.optimizers import Adam, Adadelta\n",
    "import pandas as pd"
   ]
  },
  {
   "cell_type": "code",
   "execution_count": null,
   "metadata": {
    "collapsed": false
   },
   "outputs": [],
   "source": [
    "num_classes = 3\n",
    "train = train_data[:-1500]\n",
    "test = train_data[-1500:]\n",
    "x_train = np.array([i[0] for i in train]).reshape(-1,IMG_SIZE,IMG_SIZE,1)\n",
    "x_train = x_train.astype('float32')\n",
    "x_train = x_train/255.0\n",
    "y_train = np.array([i[1] for i in train])\n",
    "x_test = np.array([i[0] for i in test]).reshape(-1,IMG_SIZE,IMG_SIZE,1)\n",
    "x_test = x_test.astype('float32')\n",
    "x_test = x_test/255.0\n",
    "y_test = np.array([i[1] for i in test])"
   ]
  },
  {
   "cell_type": "code",
   "execution_count": null,
   "metadata": {
    "collapsed": false
   },
   "outputs": [],
   "source": [
    "model = Sequential()\n",
    "model.add(Conv2D(32,(3,3),\n",
    "                activation='relu',\n",
    "                input_shape=(IMG_SIZE,IMG_SIZE,1)))\n",
    "model.add(Conv2D(32,(3,3),activation='relu'))\n",
    "model.add(MaxPooling2D(pool_size=(2,2)))\n",
    "model.add(Conv2D(64,(3,3),activation='relu'))\n",
    "model.add(Conv2D(64,(3,3),activation='relu'))\n",
    "model.add(MaxPooling2D(pool_size=(2,2)))\n",
    "model.add(Dropout(0.25))\n",
    "model.add(Flatten())\n",
    "model.add(Dense(128,activation='relu'))\n",
    "model.add(Dropout(0.5))\n",
    "model.add(Dense(num_classes,activation='softmax'))\n",
    "model.compile(loss='categorical_crossentropy',\n",
    "             optimizer=Adam(lr=1e-3, decay=1e-6),\n",
    "             metrics=['accuracy'])"
   ]
  },
  {
   "cell_type": "code",
   "execution_count": null,
   "metadata": {
    "collapsed": false
   },
   "outputs": [],
   "source": [
    "model.fit(x_train, y_train,\n",
    "         batch_size=10,\n",
    "         epochs=20,\n",
    "         verbose=1,\n",
    "         validation_data=(x_test, y_test))"
   ]
  },
  {
   "cell_type": "code",
   "execution_count": null,
   "metadata": {
    "collapsed": false
   },
   "outputs": [],
   "source": [
    "test_data = np.load('test_data.npy')\n",
    "data = np.array([i[0] for i in test_data]).reshape(-1,IMG_SIZE,IMG_SIZE,1)\n",
    "test_num = [str(i[1]) for i in test_data]\n",
    "pred = model.predict(data)\n",
    "df = pd.DataFrame(pred, columns=['Type_1', 'Type_2', 'Type_3'])\n",
    "df['image_name'] = test_num\n",
    "df.to_csv('submission.csv', index=False)"
   ]
  },
  {
   "cell_type": "code",
   "execution_count": null,
   "metadata": {
    "collapsed": true
   },
   "outputs": [],
   "source": []
  }
 ],
 "metadata": {
  "kernelspec": {
   "display_name": "Python 3",
   "language": "python",
   "name": "python3"
  },
  "language_info": {
   "codemirror_mode": {
    "name": "ipython",
    "version": 3
   },
   "file_extension": ".py",
   "mimetype": "text/x-python",
   "name": "python",
   "nbconvert_exporter": "python",
   "pygments_lexer": "ipython3",
   "version": "3.6.0"
  }
 },
 "nbformat": 4,
 "nbformat_minor": 2
}
